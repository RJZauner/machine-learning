{
  "nbformat": 4,
  "nbformat_minor": 0,
  "metadata": {
    "colab": {
      "name": "Web_scraping_python.ipynb",
      "provenance": [],
      "authorship_tag": "ABX9TyOuz6JVxjoPWxbInf0RL43r",
      "include_colab_link": true
    },
    "kernelspec": {
      "name": "python3",
      "display_name": "Python 3"
    }
  },
  "cells": [
    {
      "cell_type": "markdown",
      "metadata": {
        "id": "view-in-github",
        "colab_type": "text"
      },
      "source": [
        "<a href=\"https://colab.research.google.com/github/RJamesMaier/machine-learning/blob/master/Web_scraping_python.ipynb\" target=\"_parent\"><img src=\"https://colab.research.google.com/assets/colab-badge.svg\" alt=\"Open In Colab\"/></a>"
      ]
    },
    {
      "cell_type": "markdown",
      "metadata": {
        "colab_type": "text",
        "id": "aWKp-l7gsJex"
      },
      "source": [
        "# Web-scraping"
      ]
    },
    {
      "cell_type": "code",
      "metadata": {
        "colab_type": "code",
        "id": "DB7lay2UsJeq",
        "colab": {}
      },
      "source": [
        "import requests\n",
        "from bs4 import BeautifulSoup"
      ],
      "execution_count": 0,
      "outputs": []
    },
    {
      "cell_type": "code",
      "metadata": {
        "colab_type": "code",
        "id": "SyhJy7EWsJei",
        "colab": {}
      },
      "source": [
        "nltk.download()\n",
        "\n",
        "#spacy"
      ],
      "execution_count": 0,
      "outputs": []
    },
    {
      "cell_type": "code",
      "metadata": {
        "colab_type": "code",
        "outputId": "2b53f3d7-7226-49f9-b2f7-917292da17e2",
        "id": "5egsEpWasJeb",
        "colab": {
          "base_uri": "https://localhost:8080/",
          "height": 35
        }
      },
      "source": [
        "url = \"https://www.gutenberg.org/files/21593/21593-h/21593-h.htm\"\n",
        "\n",
        "response = requests.get(url)\n",
        "html = response.text\n",
        "soup = BeautifulSoup(html, 'html5lib')\n",
        "text = soup.get_text()"
      ],
      "execution_count": 0,
      "outputs": [
        {
          "output_type": "execute_result",
          "data": {
            "text/plain": [
              "'\\n\\nDas Urteil, by Fra'"
            ]
          },
          "metadata": {
            "tags": []
          },
          "execution_count": 15
        }
      ]
    },
    {
      "cell_type": "code",
      "metadata": {
        "colab_type": "code",
        "outputId": "e600d0bb-9df0-42d8-99e1-2e1ffb8e5aba",
        "id": "WbjnSGZrsJeT",
        "colab": {
          "base_uri": "https://localhost:8080/",
          "height": 35
        }
      },
      "source": [
        "#sentence/word tokenizer fehlen\n",
        "from nltk.tokenize import RegexpTokenizer\n",
        "\n",
        "tok_text = RegexpTokenizer('\\w+').tokenize(text)\n",
        "tok_text[:8]"
      ],
      "execution_count": 0,
      "outputs": [
        {
          "output_type": "execute_result",
          "data": {
            "text/plain": [
              "['Das', 'Urteil', 'by', 'Franz', 'Kafka', 'A', 'Project', 'Gutenberg']"
            ]
          },
          "metadata": {
            "tags": []
          },
          "execution_count": 18
        }
      ]
    },
    {
      "cell_type": "code",
      "metadata": {
        "colab_type": "code",
        "outputId": "d5db2db5-6ca7-45d4-cda6-e9cf58ada5f8",
        "id": "lOjTUyDasJd_",
        "colab": {
          "base_uri": "https://localhost:8080/",
          "height": 35
        }
      },
      "source": [
        "words = []\n",
        "\n",
        "for word in tok_text:\n",
        "  words.append(word.lower())\n",
        "\n",
        "words[:8]"
      ],
      "execution_count": 0,
      "outputs": [
        {
          "output_type": "execute_result",
          "data": {
            "text/plain": [
              "['das', 'urteil', 'by', 'franz', 'kafka', 'a', 'project', 'gutenberg']"
            ]
          },
          "metadata": {
            "tags": []
          },
          "execution_count": 19
        }
      ]
    },
    {
      "cell_type": "code",
      "metadata": {
        "colab_type": "code",
        "outputId": "0d1aeb7e-d6e1-4449-8951-405c8d748900",
        "id": "Zj2Z8CRvsJdd",
        "colab": {
          "base_uri": "https://localhost:8080/",
          "height": 35
        }
      },
      "source": [
        "from nltk.corpus import  stopwords\n",
        "sw_ge = nltk.corpus.stopwords.words('german')\n",
        "sw_ge[:8]"
      ],
      "execution_count": 0,
      "outputs": [
        {
          "output_type": "execute_result",
          "data": {
            "text/plain": [
              "['aber', 'alle', 'allem', 'allen', 'aller', 'alles', 'als', 'also']"
            ]
          },
          "metadata": {
            "tags": []
          },
          "execution_count": 20
        }
      ]
    },
    {
      "cell_type": "code",
      "metadata": {
        "colab_type": "code",
        "outputId": "48eb1271-b224-45da-d884-a18b433bc8b3",
        "id": "pb1KSthFsJdC",
        "colab": {
          "base_uri": "https://localhost:8080/",
          "height": 35
        }
      },
      "source": [
        "clean_text = []\n",
        "\n",
        "for word in words:\n",
        "  if word not in sw_ge:\n",
        "    clean_text.append(word)\n",
        "\n",
        "clean_text[:8]"
      ],
      "execution_count": 0,
      "outputs": [
        {
          "output_type": "execute_result",
          "data": {
            "text/plain": [
              "['urteil', 'by', 'franz', 'kafka', 'a', 'project', 'gutenberg', 'ebook']"
            ]
          },
          "metadata": {
            "tags": []
          },
          "execution_count": 21
        }
      ]
    },
    {
      "cell_type": "code",
      "metadata": {
        "colab_type": "code",
        "id": "65n1X3FasJcj",
        "colab": {}
      },
      "source": [
        "nltk.download('averaged_perceptron_tagger')\n",
        "\n",
        "nltk.pos_tag(clean_text)"
      ],
      "execution_count": 0,
      "outputs": []
    }
  ]
}