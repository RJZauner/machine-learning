{
  "nbformat": 4,
  "nbformat_minor": 0,
  "metadata": {
    "colab": {
      "name": "hr_analysis.ipynb",
      "provenance": [],
      "include_colab_link": true
    },
    "kernelspec": {
      "name": "python3",
      "display_name": "Python 3"
    }
  },
  "cells": [
    {
      "cell_type": "markdown",
      "metadata": {
        "id": "view-in-github",
        "colab_type": "text"
      },
      "source": [
        "<a href=\"https://colab.research.google.com/github/RJamesMaier/machine-learning/blob/master/hr_analysis.ipynb\" target=\"_parent\"><img src=\"https://colab.research.google.com/assets/colab-badge.svg\" alt=\"Open In Colab\"/></a>"
      ]
    },
    {
      "cell_type": "markdown",
      "metadata": {
        "id": "7jHtTr38340Q",
        "colab_type": "text"
      },
      "source": [
        "## Content\n",
        "We have reduced the complexity of the dataset down to a single data file (v13). The CSV revolves around a fictitious company, called Dental Magic, and the core data set contains:\n",
        "* names\n",
        "* DOBs\n",
        "* age\n",
        "* gender\n",
        "* marital status\n",
        "* date of hire\n",
        "* reasons for termination\n",
        "* department\n",
        "* whether they are active or terminated\n",
        "* position title\n",
        "* pay rate\n",
        "* manager name\n",
        "* performance score.\n",
        "\n",
        "Recent additions to the data include: - Absences - Most Recent Performance Review Date - Employee Engagement Score\n",
        "\n",
        "## Questions\n",
        "\n",
        "* Is there any relationship between who a person works for and their performance score?\n",
        "* What is the overall diversity profile of the organization?\n",
        "* What are our best recruiting sources if we want to ensure a diverse organization?\n",
        "* Can we predict who is going to terminate and who isn't? What level of accuracy can we achieve on this?\n",
        "* Are there areas of the company where pay is not equitable?"
      ]
    }
  ]
}