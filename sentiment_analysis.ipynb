{
  "nbformat": 4,
  "nbformat_minor": 0,
  "metadata": {
    "colab": {
      "name": "sentiment_analysis.ipynb",
      "provenance": [],
      "authorship_tag": "ABX9TyNr2Diju4qYEvey4VzNbsC8",
      "include_colab_link": true
    },
    "kernelspec": {
      "name": "python3",
      "display_name": "Python 3"
    }
  },
  "cells": [
    {
      "cell_type": "markdown",
      "metadata": {
        "id": "view-in-github",
        "colab_type": "text"
      },
      "source": [
        "<a href=\"https://colab.research.google.com/github/RJamesMaier/machine-learning/blob/master/sentiment_analysis.ipynb\" target=\"_parent\"><img src=\"https://colab.research.google.com/assets/colab-badge.svg\" alt=\"Open In Colab\"/></a>"
      ]
    },
    {
      "cell_type": "markdown",
      "metadata": {
        "id": "dluGv5FNbyzu",
        "colab_type": "text"
      },
      "source": [
        "# Sentiment Analysis\n",
        "\n",
        "Eine Anwendung von Natural Language Processing besteht darin, die semantische Information eines Satzes zu bestimmen. So können Firmen sehen, ob ihre Marke eher mit positiven, negativen oder neutralen Worten in Zusammenhang gebracht wird.\n",
        "\n",
        "Es gibt hierfür zwei Ansätze:\n",
        "* lexicon-basiert: Hier werden einfach die Anzahl der positiven und negativen Wörter gezählt.\n",
        "* Machine Learning-basiert: Hier wird ein Algorithmus trainiert, der die Beiträge kategorisiert.\n",
        "\n",
        "Wir werden den Machine-Learning-baisierten Ansatz wählen.\n",
        "\n",
        "Hierfür müssen wir zuerst den Datensatz verfügbar machen. Den Datensatz kann man von GitHub herunterladen."
      ]
    },
    {
      "cell_type": "code",
      "metadata": {
        "id": "Beg7X7d0dmlP",
        "colab_type": "code",
        "outputId": "0f8821a0-975d-4d6a-fd3c-b1a1359e7200",
        "colab": {
          "base_uri": "https://localhost:8080/",
          "height": 125
        }
      },
      "source": [
        "!git clone https://github.com/RJamesMaier/movie_dataset.git"
      ],
      "execution_count": 0,
      "outputs": [
        {
          "output_type": "stream",
          "text": [
            "Cloning into 'movie_dataset'...\n",
            "remote: Enumerating objects: 9, done.\u001b[K\n",
            "remote: Counting objects: 100% (9/9), done.\u001b[K\n",
            "remote: Compressing objects: 100% (8/8), done.\u001b[K\n",
            "remote: Total 9 (delta 0), reused 0 (delta 0), pack-reused 0\u001b[K\n",
            "Unpacking objects: 100% (9/9), done.\n"
          ],
          "name": "stdout"
        }
      ]
    },
    {
      "cell_type": "code",
      "metadata": {
        "id": "nKau-llBflVm",
        "colab_type": "code",
        "outputId": "a5b25d19-468d-4689-9ae7-3b75fe523bfe",
        "colab": {
          "base_uri": "https://localhost:8080/",
          "height": 35
        }
      },
      "source": [
        "!ls"
      ],
      "execution_count": 0,
      "outputs": [
        {
          "output_type": "stream",
          "text": [
            "movie_dataset  sample_data\n"
          ],
          "name": "stdout"
        }
      ]
    },
    {
      "cell_type": "code",
      "metadata": {
        "id": "wSGYk4slfuE2",
        "colab_type": "code",
        "outputId": "a18297fa-e6e4-46f0-d029-86f86359a1a5",
        "colab": {
          "base_uri": "https://localhost:8080/",
          "height": 204
        }
      },
      "source": [
        "import pandas as pd\n",
        "\n",
        "train_data = pd.read_csv('movie_dataset/train.tsv', sep = '\\t')\n",
        "\n",
        "test_data = pd.read_csv('movie_dataset/test.tsv', sep = '\\t')\n",
        "\n",
        "train_data.head()"
      ],
      "execution_count": 0,
      "outputs": [
        {
          "output_type": "execute_result",
          "data": {
            "text/html": [
              "<div>\n",
              "<style scoped>\n",
              "    .dataframe tbody tr th:only-of-type {\n",
              "        vertical-align: middle;\n",
              "    }\n",
              "\n",
              "    .dataframe tbody tr th {\n",
              "        vertical-align: top;\n",
              "    }\n",
              "\n",
              "    .dataframe thead th {\n",
              "        text-align: right;\n",
              "    }\n",
              "</style>\n",
              "<table border=\"1\" class=\"dataframe\">\n",
              "  <thead>\n",
              "    <tr style=\"text-align: right;\">\n",
              "      <th></th>\n",
              "      <th>PhraseId</th>\n",
              "      <th>SentenceId</th>\n",
              "      <th>Phrase</th>\n",
              "      <th>Sentiment</th>\n",
              "    </tr>\n",
              "  </thead>\n",
              "  <tbody>\n",
              "    <tr>\n",
              "      <th>0</th>\n",
              "      <td>1</td>\n",
              "      <td>1</td>\n",
              "      <td>A series of escapades demonstrating the adage ...</td>\n",
              "      <td>1</td>\n",
              "    </tr>\n",
              "    <tr>\n",
              "      <th>1</th>\n",
              "      <td>2</td>\n",
              "      <td>1</td>\n",
              "      <td>A series of escapades demonstrating the adage ...</td>\n",
              "      <td>2</td>\n",
              "    </tr>\n",
              "    <tr>\n",
              "      <th>2</th>\n",
              "      <td>3</td>\n",
              "      <td>1</td>\n",
              "      <td>A series</td>\n",
              "      <td>2</td>\n",
              "    </tr>\n",
              "    <tr>\n",
              "      <th>3</th>\n",
              "      <td>4</td>\n",
              "      <td>1</td>\n",
              "      <td>A</td>\n",
              "      <td>2</td>\n",
              "    </tr>\n",
              "    <tr>\n",
              "      <th>4</th>\n",
              "      <td>5</td>\n",
              "      <td>1</td>\n",
              "      <td>series</td>\n",
              "      <td>2</td>\n",
              "    </tr>\n",
              "  </tbody>\n",
              "</table>\n",
              "</div>"
            ],
            "text/plain": [
              "   PhraseId  ...  Sentiment\n",
              "0         1  ...          1\n",
              "1         2  ...          2\n",
              "2         3  ...          2\n",
              "3         4  ...          2\n",
              "4         5  ...          2\n",
              "\n",
              "[5 rows x 4 columns]"
            ]
          },
          "metadata": {
            "tags": []
          },
          "execution_count": 5
        }
      ]
    },
    {
      "cell_type": "code",
      "metadata": {
        "id": "vWFdyMHVgTqT",
        "colab_type": "code",
        "outputId": "18cb6c5e-8442-4488-9bcd-c40cffb29c9d",
        "colab": {
          "base_uri": "https://localhost:8080/",
          "height": 125
        }
      },
      "source": [
        "train_data.Sentiment.value_counts()"
      ],
      "execution_count": 0,
      "outputs": [
        {
          "output_type": "execute_result",
          "data": {
            "text/plain": [
              "2    79582\n",
              "3    32927\n",
              "1    27273\n",
              "4     9206\n",
              "0     7072\n",
              "Name: Sentiment, dtype: int64"
            ]
          },
          "metadata": {
            "tags": []
          },
          "execution_count": 4
        }
      ]
    },
    {
      "cell_type": "code",
      "metadata": {
        "id": "Qflh01D5g1AG",
        "colab_type": "code",
        "outputId": "102de819-c448-493e-bde7-56e8258632b3",
        "colab": {
          "base_uri": "https://localhost:8080/",
          "height": 279
        }
      },
      "source": [
        "import matplotlib.pyplot as plt\n",
        "%matplotlib inline\n",
        "\n",
        "Sentiment_count = train_data.groupby('Sentiment').count()\n",
        "plt.bar(Sentiment_count.index.values, Sentiment_count['Phrase'])\n",
        "plt.xlabel('Sentiment Categoires')\n",
        "plt.ylabel('Frequency of Sentiment')\n",
        "plt.show()"
      ],
      "execution_count": 0,
      "outputs": [
        {
          "output_type": "display_data",
          "data": {
            "image/png": "[encoded data removed]",
            "text/plain": [
              "<Figure size 432x288 with 1 Axes>"
            ]
          },
          "metadata": {
            "tags": []
          }
        }
      ]
    },
    {
      "cell_type": "markdown",
      "metadata": {
        "id": "NTSDIYHZhxPb",
        "colab_type": "text"
      },
      "source": [
        "# Feature Extraction\n",
        "\n",
        "Nachdem wir uns einen Überblick über unsere Daten gegeben haben, müssen wir die Textdaten in Zahlen umwandeln.\n",
        "\n",
        "Eine Möglichkeit ist das sogenannte Bag-of-Words (BoW). Hierbei werden die Textdaten in eine Matrix umgewandelt. Diese Matrix gibt die Häufigkeit der Wörter in der Textdatei wieder. Diese Matrix wird als [Document-Term-Matrix](https://en.wikipedia.org/wiki/Document-term_matrix) (dtm) bezeichnet. \n",
        "\n",
        "Der BoW-Ansatz ist ein Term-Frequency(TF)-Ansatz. Hier werden lediglich die Anzahl der Wörter gezählt. Das bedeutet, dass länger Texte mehr Gewicht bekommen, da es hier nur um die Häufigkeit geht."
      ]
    },
    {
      "cell_type": "code",
      "metadata": {
        "id": "J1j4nH2ejSUY",
        "colab_type": "code",
        "colab": {}
      },
      "source": [
        "from sklearn.feature_extraction.text import CountVectorizer\n",
        "from nltk.tokenize import RegexpTokenizer\n",
        "\n",
        "token = RegexpTokenizer('\\w+')\n",
        "cv = CountVectorizer(lowercase = True, stop_words = 'english', ngram_range = (1,1),tokenizer = token.tokenize) \n",
        "text_counts = cv.fit_transform(train_data['Phrase'])"
      ],
      "execution_count": 0,
      "outputs": []
    },
    {
      "cell_type": "code",
      "metadata": {
        "id": "kFcwvIjAk0xy",
        "colab_type": "code",
        "colab": {}
      },
      "source": [
        "from sklearn.model_selection import train_test_split\n",
        "\n",
        "X_train, X_test, y_train, y_test = train_test_split(text_counts, train_data['Sentiment'], test_size = 0.3, random_state = 1)"
      ],
      "execution_count": 0,
      "outputs": []
    },
    {
      "cell_type": "markdown",
      "metadata": {
        "id": "uLHtV8iPlfMH",
        "colab_type": "text"
      },
      "source": [
        "# Modell bauen\n",
        "\n",
        "Für diese Aufgabe werden wir einen multinomiales Naive Bayes Algorithmus verwenden. Wir der Name schon sagt, kann dieser mit mehr als 2 Kategorien umgehen."
      ]
    },
    {
      "cell_type": "code",
      "metadata": {
        "id": "wZtl_5WJl21o",
        "colab_type": "code",
        "outputId": "36672788-c4fa-4321-fcc0-9762acb966cc",
        "colab": {
          "base_uri": "https://localhost:8080/",
          "height": 35
        }
      },
      "source": [
        "from sklearn.naive_bayes import MultinomialNB\n",
        "\n",
        "from sklearn import metrics\n",
        "\n",
        "nb_clf = MultinomialNB().fit(X_train, y_train)\n",
        "predicted = nb_clf.predict(X_test)\n",
        "\n",
        "print(\"MultinomialNB Accuracy:\", metrics.accuracy_score(y_test, predicted))"
      ],
      "execution_count": 0,
      "outputs": [
        {
          "output_type": "stream",
          "text": [
            "MultinomialNB Accuracy: 0.6049169122986885\n"
          ],
          "name": "stdout"
        }
      ]
    },
    {
      "cell_type": "markdown",
      "metadata": {
        "id": "vx1QJkYamv6v",
        "colab_type": "text"
      },
      "source": [
        "Der Term Frequency-Inverse Document Frequency (TF-IDF) gleicht die Nachteile des TFs wieder aus. TF-IDF entsteht durch die Multiplikation von TF und IDF. "
      ]
    },
    {
      "cell_type": "code",
      "metadata": {
        "id": "KPIKPo4ronRZ",
        "colab_type": "code",
        "outputId": "9e631667-f15f-411e-ee06-544a5b993197",
        "colab": {
          "base_uri": "https://localhost:8080/",
          "height": 35
        }
      },
      "source": [
        "from sklearn.feature_extraction.text import TfidfVectorizer\n",
        "from sklearn.model_selection import train_test_split\n",
        "from sklearn.naive_bayes import MultinomialNB\n",
        "from sklearn import metrics\n",
        "\n",
        "tf_idf = TfidfVectorizer()\n",
        "\n",
        "text_tf_idf = tf_idf.fit_transform(train_data['Phrase'])\n",
        "\n",
        "X_train, X_test, y_train, y_test = train_test_split(\n",
        "    text_tf_idf, train_data['Sentiment'], test_size = 0.3, random_state = 123)\n",
        "\n",
        "nb_clf = MultinomialNB().fit(X_train, y_train)\n",
        "predicted = nb_clf.predict(X_test)\n",
        "\n",
        "print(\"MultinomialNB Accuracy:\",metrics.accuracy_score(y_test, predicted))"
      ],
      "execution_count": 0,
      "outputs": [
        {
          "output_type": "stream",
          "text": [
            "MultinomialNB Accuracy: 0.5865265496176684\n"
          ],
          "name": "stdout"
        }
      ]
    },
    {
      "cell_type": "markdown",
      "metadata": {
        "id": "s2mTBP1zEwF4",
        "colab_type": "text"
      },
      "source": [
        "# Tensorflow\n",
        "\n",
        "Versuchen wir mal eine Klassifizierung mit der beliebten Tensorflow-Bibliothek durchzuführen.\n",
        "\n"
      ]
    }
  ]
}